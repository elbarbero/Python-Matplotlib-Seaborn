{
 "cells": [
  {
   "cell_type": "code",
   "execution_count": 1,
   "metadata": {},
   "outputs": [],
   "source": [
    "import pandas as pd"
   ]
  },
  {
   "cell_type": "code",
   "execution_count": 2,
   "metadata": {},
   "outputs": [],
   "source": [
    "import matplotlib.pyplot as plt"
   ]
  },
  {
   "cell_type": "code",
   "execution_count": 3,
   "metadata": {},
   "outputs": [],
   "source": [
    "import seaborn as sns"
   ]
  },
  {
   "cell_type": "code",
   "execution_count": 14,
   "metadata": {},
   "outputs": [],
   "source": [
    "df_ext = pd.read_csv(r'C:\\Users\\ivan_pinar\\Dropbox\\Creación de MOCs\\MOC Master Python Análisis de Datos\\Datasets\\9.2\\temp_hum_ext.csv',encoding = \"ISO-8859-1\",delimiter=',')"
   ]
  },
  {
   "cell_type": "code",
   "execution_count": 15,
   "metadata": {},
   "outputs": [
    {
     "data": {
      "text/html": [
       "<div>\n",
       "<style scoped>\n",
       "    .dataframe tbody tr th:only-of-type {\n",
       "        vertical-align: middle;\n",
       "    }\n",
       "\n",
       "    .dataframe tbody tr th {\n",
       "        vertical-align: top;\n",
       "    }\n",
       "\n",
       "    .dataframe thead th {\n",
       "        text-align: right;\n",
       "    }\n",
       "</style>\n",
       "<table border=\"1\" class=\"dataframe\">\n",
       "  <thead>\n",
       "    <tr style=\"text-align: right;\">\n",
       "      <th></th>\n",
       "      <th>Estación</th>\n",
       "      <th>Provincia</th>\n",
       "      <th>Temperatura (ºC)</th>\n",
       "      <th>Velocidad del viento (km/h)</th>\n",
       "      <th>Dirección del viento</th>\n",
       "      <th>Racha (km/h)</th>\n",
       "      <th>Dirección de racha</th>\n",
       "      <th>Precipitación (mm)</th>\n",
       "      <th>Presión (hPa)</th>\n",
       "      <th>Tendencia (hPa)</th>\n",
       "      <th>Humedad (%)</th>\n",
       "    </tr>\n",
       "  </thead>\n",
       "  <tbody>\n",
       "    <tr>\n",
       "      <td>0</td>\n",
       "      <td>Azuaga</td>\n",
       "      <td>Badajoz</td>\n",
       "      <td>12.6</td>\n",
       "      <td>9</td>\n",
       "      <td>Oeste</td>\n",
       "      <td>14</td>\n",
       "      <td>Noroeste</td>\n",
       "      <td>0.0</td>\n",
       "      <td>NaN</td>\n",
       "      <td>NaN</td>\n",
       "      <td>62.0</td>\n",
       "    </tr>\n",
       "    <tr>\n",
       "      <td>1</td>\n",
       "      <td>Badajoz</td>\n",
       "      <td>Badajoz</td>\n",
       "      <td>11.1</td>\n",
       "      <td>3</td>\n",
       "      <td>Oeste</td>\n",
       "      <td>8</td>\n",
       "      <td>Noroeste</td>\n",
       "      <td>0.0</td>\n",
       "      <td>NaN</td>\n",
       "      <td>NaN</td>\n",
       "      <td>90.0</td>\n",
       "    </tr>\n",
       "    <tr>\n",
       "      <td>2</td>\n",
       "      <td>Badajoz Aeropuerto</td>\n",
       "      <td>Badajoz</td>\n",
       "      <td>14.4</td>\n",
       "      <td>5</td>\n",
       "      <td>Oeste</td>\n",
       "      <td>11</td>\n",
       "      <td>Oeste</td>\n",
       "      <td>0.0</td>\n",
       "      <td>995.7</td>\n",
       "      <td>0.9</td>\n",
       "      <td>71.0</td>\n",
       "    </tr>\n",
       "    <tr>\n",
       "      <td>3</td>\n",
       "      <td>Barcarrota</td>\n",
       "      <td>Badajoz</td>\n",
       "      <td>8.4</td>\n",
       "      <td>5</td>\n",
       "      <td>Este</td>\n",
       "      <td>10</td>\n",
       "      <td>Este</td>\n",
       "      <td>0.0</td>\n",
       "      <td>974.3</td>\n",
       "      <td>0.4</td>\n",
       "      <td>94.0</td>\n",
       "    </tr>\n",
       "    <tr>\n",
       "      <td>4</td>\n",
       "      <td>Brozas</td>\n",
       "      <td>Cáceres</td>\n",
       "      <td>13.3</td>\n",
       "      <td>13</td>\n",
       "      <td>Nordeste</td>\n",
       "      <td>23</td>\n",
       "      <td>Nordeste</td>\n",
       "      <td>0.0</td>\n",
       "      <td>NaN</td>\n",
       "      <td>NaN</td>\n",
       "      <td>61.0</td>\n",
       "    </tr>\n",
       "  </tbody>\n",
       "</table>\n",
       "</div>"
      ],
      "text/plain": [
       "             Estación Provincia  Temperatura (ºC)  \\\n",
       "0              Azuaga   Badajoz              12.6   \n",
       "1             Badajoz   Badajoz              11.1   \n",
       "2  Badajoz Aeropuerto   Badajoz              14.4   \n",
       "3          Barcarrota   Badajoz               8.4   \n",
       "4              Brozas   Cáceres              13.3   \n",
       "\n",
       "   Velocidad del viento (km/h) Dirección del viento  Racha (km/h)  \\\n",
       "0                            9                Oeste            14   \n",
       "1                            3                Oeste             8   \n",
       "2                            5                Oeste            11   \n",
       "3                            5                 Este            10   \n",
       "4                           13             Nordeste            23   \n",
       "\n",
       "  Dirección de racha  Precipitación (mm)  Presión (hPa)  Tendencia (hPa)  \\\n",
       "0           Noroeste                 0.0            NaN              NaN   \n",
       "1           Noroeste                 0.0            NaN              NaN   \n",
       "2              Oeste                 0.0          995.7              0.9   \n",
       "3               Este                 0.0          974.3              0.4   \n",
       "4           Nordeste                 0.0            NaN              NaN   \n",
       "\n",
       "   Humedad (%)  \n",
       "0         62.0  \n",
       "1         90.0  \n",
       "2         71.0  \n",
       "3         94.0  \n",
       "4         61.0  "
      ]
     },
     "execution_count": 15,
     "metadata": {},
     "output_type": "execute_result"
    }
   ],
   "source": [
    "df_ext.head()"
   ]
  },
  {
   "cell_type": "code",
   "execution_count": 16,
   "metadata": {},
   "outputs": [],
   "source": [
    "df_ext[\"Humedad (%)\"].dropna(inplace=True)"
   ]
  },
  {
   "cell_type": "code",
   "execution_count": 17,
   "metadata": {},
   "outputs": [],
   "source": [
    "df_ext[\"Temperatura (ºC)\"].dropna(inplace=True)"
   ]
  },
  {
   "cell_type": "code",
   "execution_count": 61,
   "metadata": {},
   "outputs": [
    {
     "data": {
      "text/plain": [
       "<matplotlib.legend.Legend at 0x216519f41d0>"
      ]
     },
     "execution_count": 61,
     "metadata": {},
     "output_type": "execute_result"
    },
    {
     "data": {
      "image/png": "[encoded data removed]",
      "text/plain": [
       "<Figure size 432x288 with 1 Axes>"
      ]
     },
     "metadata": {
      "needs_background": "light"
     },
     "output_type": "display_data"
    }
   ],
   "source": [
    "sns.regplot(data=df_ext, x=\"Temperatura (ºC)\", y=\"Humedad (%)\",scatter=True, color='blue', order=1, label=\"Orden 1\")\n",
    "plt.legend(loc='upper right')"
   ]
  },
  {
   "cell_type": "code",
   "execution_count": 6,
   "metadata": {},
   "outputs": [
    {
     "data": {
      "text/plain": [
       "<matplotlib.axes._subplots.AxesSubplot at 0x2164e360c18>"
      ]
     },
     "execution_count": 6,
     "metadata": {},
     "output_type": "execute_result"
    },
    {
     "data": {
      "image/png": "[encoded data removed]",
      "text/plain": [
       "<Figure size 432x288 with 1 Axes>"
      ]
     },
     "metadata": {
      "needs_background": "light"
     },
     "output_type": "display_data"
    }
   ],
   "source": [
    "sns.regplot(data=df_ext, x=\"Temperatura (ºC)\", y=\"Humedad (%)\", scatter=True, order=2, color='green')"
   ]
  },
  {
   "cell_type": "code",
   "execution_count": 25,
   "metadata": {},
   "outputs": [],
   "source": [
    "from scipy import stats"
   ]
  },
  {
   "cell_type": "code",
   "execution_count": 26,
   "metadata": {},
   "outputs": [],
   "source": [
    "pendiente, intercepto, r_value, p_value, std_err = stats.linregress(df_ext[\"Temperatura (ºC)\"],df_ext[\"Humedad (%)\"])"
   ]
  },
  {
   "cell_type": "code",
   "execution_count": 59,
   "metadata": {},
   "outputs": [
    {
     "data": {
      "text/plain": [
       "<matplotlib.legend.Legend at 0x216508f8ef0>"
      ]
     },
     "execution_count": 59,
     "metadata": {},
     "output_type": "execute_result"
    },
    {
     "data": {
      "image/png": "[encoded data removed]",
      "text/plain": [
       "<Figure size 432x288 with 1 Axes>"
      ]
     },
     "metadata": {
      "needs_background": "light"
     },
     "output_type": "display_data"
    }
   ],
   "source": [
    "sns.regplot(data=df_ext, x=\"Temperatura (ºC)\", y=\"Humedad (%)\", scatter=True, order=1, color='blue', label='order 1',line_kws={'label':\"y={0:.1f}x+{1:.1f}\".format(pendiente,intercepto)})\n",
    "plt.legend()"
   ]
  },
  {
   "cell_type": "markdown",
   "metadata": {},
   "source": [
    "# Ejercicio"
   ]
  },
  {
   "cell_type": "code",
   "execution_count": 63,
   "metadata": {},
   "outputs": [],
   "source": [
    "df_act = pd.read_excel(r'C:\\Users\\ivan_pinar\\Dropbox\\Creación de MOCs\\MOC Master Python Análisis de Datos\\Datasets\\9.2\\Datos población activa.xlsx',sheet_name=\"Total Histórico\")"
   ]
  },
  {
   "cell_type": "code",
   "execution_count": 64,
   "metadata": {},
   "outputs": [
    {
     "data": {
      "text/html": [
       "<div>\n",
       "<style scoped>\n",
       "    .dataframe tbody tr th:only-of-type {\n",
       "        vertical-align: middle;\n",
       "    }\n",
       "\n",
       "    .dataframe tbody tr th {\n",
       "        vertical-align: top;\n",
       "    }\n",
       "\n",
       "    .dataframe thead th {\n",
       "        text-align: right;\n",
       "    }\n",
       "</style>\n",
       "<table border=\"1\" class=\"dataframe\">\n",
       "  <thead>\n",
       "    <tr style=\"text-align: right;\">\n",
       "      <th></th>\n",
       "      <th>Periodo</th>\n",
       "      <th>Total Activos</th>\n",
       "      <th>Periodo num</th>\n",
       "      <th>Periodo num_int</th>\n",
       "    </tr>\n",
       "  </thead>\n",
       "  <tbody>\n",
       "    <tr>\n",
       "      <td>0</td>\n",
       "      <td>2020T1</td>\n",
       "      <td>22994.2</td>\n",
       "      <td>2020-01-01</td>\n",
       "      <td>202001</td>\n",
       "    </tr>\n",
       "    <tr>\n",
       "      <td>1</td>\n",
       "      <td>2019T4</td>\n",
       "      <td>23158.8</td>\n",
       "      <td>2019-10-01</td>\n",
       "      <td>201910</td>\n",
       "    </tr>\n",
       "    <tr>\n",
       "      <td>2</td>\n",
       "      <td>2019T3</td>\n",
       "      <td>23088.7</td>\n",
       "      <td>2019-07-01</td>\n",
       "      <td>201907</td>\n",
       "    </tr>\n",
       "    <tr>\n",
       "      <td>3</td>\n",
       "      <td>2019T2</td>\n",
       "      <td>23035.5</td>\n",
       "      <td>2019-04-01</td>\n",
       "      <td>201904</td>\n",
       "    </tr>\n",
       "    <tr>\n",
       "      <td>4</td>\n",
       "      <td>2019T1</td>\n",
       "      <td>22825.4</td>\n",
       "      <td>2019-01-01</td>\n",
       "      <td>201901</td>\n",
       "    </tr>\n",
       "  </tbody>\n",
       "</table>\n",
       "</div>"
      ],
      "text/plain": [
       "  Periodo  Total Activos Periodo num  Periodo num_int\n",
       "0  2020T1        22994.2  2020-01-01           202001\n",
       "1  2019T4        23158.8  2019-10-01           201910\n",
       "2  2019T3        23088.7  2019-07-01           201907\n",
       "3  2019T2        23035.5  2019-04-01           201904\n",
       "4  2019T1        22825.4  2019-01-01           201901"
      ]
     },
     "execution_count": 64,
     "metadata": {},
     "output_type": "execute_result"
    }
   ],
   "source": [
    "df_act.head()"
   ]
  },
  {
   "cell_type": "code",
   "execution_count": null,
   "metadata": {},
   "outputs": [],
   "source": [
    "#Crear una regresión lineal de orden 1 con eje x “Periodo num_int” / eje y “Total Activos."
   ]
  },
  {
   "cell_type": "code",
   "execution_count": 65,
   "metadata": {},
   "outputs": [
    {
     "data": {
      "text/plain": [
       "<matplotlib.axes._subplots.AxesSubplot at 0x21651ab7b38>"
      ]
     },
     "execution_count": 65,
     "metadata": {},
     "output_type": "execute_result"
    },
    {
     "data": {
      "image/png": "[encoded data removed]",
      "text/plain": [
       "<Figure size 432x288 with 1 Axes>"
      ]
     },
     "metadata": {
      "needs_background": "light"
     },
     "output_type": "display_data"
    }
   ],
   "source": [
    "sns.regplot(data=df_act, x=\"Periodo num_int\", y=\"Total Activos\",scatter=True, color='blue', label='order 1')"
   ]
  },
  {
   "cell_type": "code",
   "execution_count": null,
   "metadata": {},
   "outputs": [],
   "source": [
    "#Añadir la fórmula de la ecuación de esta regresión."
   ]
  },
  {
   "cell_type": "code",
   "execution_count": 66,
   "metadata": {},
   "outputs": [],
   "source": [
    "pendiente, intercepto, r_value, p_value, std_err = stats.linregress(df_act[\"Periodo num_int\"],df_act[\"Total Activos\"])"
   ]
  },
  {
   "cell_type": "code",
   "execution_count": 67,
   "metadata": {},
   "outputs": [
    {
     "data": {
      "text/plain": [
       "<matplotlib.legend.Legend at 0x21651a4c198>"
      ]
     },
     "execution_count": 67,
     "metadata": {},
     "output_type": "execute_result"
    },
    {
     "data": {
      "image/png": "[encoded data removed]",
      "text/plain": [
       "<Figure size 432x288 with 1 Axes>"
      ]
     },
     "metadata": {
      "needs_background": "light"
     },
     "output_type": "display_data"
    }
   ],
   "source": [
    "sns.regplot(data=df_act, x=\"Periodo num_int\", y=\"Total Activos\", scatter=True, order=1, color='blue', label='order 1',line_kws={'label':\"y={0:.1f}x+{1:.1f}\".format(pendiente,intercepto)})\n",
    "plt.legend()"
   ]
  },
  {
   "cell_type": "code",
   "execution_count": null,
   "metadata": {},
   "outputs": [],
   "source": [
    "#¿cuál sería el número de personas activas estimadas en 202201 (1er trimestre de 2022)"
   ]
  },
  {
   "cell_type": "code",
   "execution_count": 68,
   "metadata": {},
   "outputs": [],
   "source": [
    "y_202201 = 1.8*202201-340650.1"
   ]
  },
  {
   "cell_type": "code",
   "execution_count": 69,
   "metadata": {},
   "outputs": [
    {
     "data": {
      "text/plain": [
       "23311.70000000001"
      ]
     },
     "execution_count": 69,
     "metadata": {},
     "output_type": "execute_result"
    }
   ],
   "source": [
    "y_202201"
   ]
  },
  {
   "cell_type": "code",
   "execution_count": null,
   "metadata": {},
   "outputs": [],
   "source": []
  }
 ],
 "metadata": {
  "kernelspec": {
   "display_name": "Python 3",
   "language": "python",
   "name": "python3"
  },
  "language_info": {
   "codemirror_mode": {
    "name": "ipython",
    "version": 3
   },
   "file_extension": ".py",
   "mimetype": "text/x-python",
   "name": "python",
   "nbconvert_exporter": "python",
   "pygments_lexer": "ipython3",
   "version": "3.7.3"
  }
 },
 "nbformat": 4,
 "nbformat_minor": 2
}
