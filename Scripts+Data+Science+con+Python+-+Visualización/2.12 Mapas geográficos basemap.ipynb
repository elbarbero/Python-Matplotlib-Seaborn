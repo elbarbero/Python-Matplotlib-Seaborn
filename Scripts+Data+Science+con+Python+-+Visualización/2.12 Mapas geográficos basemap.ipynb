{
 "cells": [
  {
   "cell_type": "code",
   "execution_count": 1,
   "metadata": {},
   "outputs": [],
   "source": [
    "import pandas as pd\n",
    "import matplotlib.pyplot as plt"
   ]
  },
  {
   "cell_type": "code",
   "execution_count": 2,
   "metadata": {},
   "outputs": [],
   "source": [
    "df_peatones = pd.read_csv(r'C:\\Users\\ivan_pinar\\Dropbox\\Creación de MOCs\\MOC Master Python Análisis de Datos\\Datasets\\8.12\\PEATONES_2020_mod.csv',encoding = \"ISO-8859-1\",delimiter=';')"
   ]
  },
  {
   "cell_type": "code",
   "execution_count": 3,
   "metadata": {},
   "outputs": [
    {
     "data": {
      "text/html": [
       "<div>\n",
       "<style scoped>\n",
       "    .dataframe tbody tr th:only-of-type {\n",
       "        vertical-align: middle;\n",
       "    }\n",
       "\n",
       "    .dataframe tbody tr th {\n",
       "        vertical-align: top;\n",
       "    }\n",
       "\n",
       "    .dataframe thead th {\n",
       "        text-align: right;\n",
       "    }\n",
       "</style>\n",
       "<table border=\"1\" class=\"dataframe\">\n",
       "  <thead>\n",
       "    <tr style=\"text-align: right;\">\n",
       "      <th></th>\n",
       "      <th>FECHA</th>\n",
       "      <th>HORA</th>\n",
       "      <th>IDENTIFICADOR</th>\n",
       "      <th>PEATONES</th>\n",
       "      <th>NÚMERO_DISTRITO</th>\n",
       "      <th>DISTRITO</th>\n",
       "      <th>NOMBRE_VIAL</th>\n",
       "      <th>NÚMERO</th>\n",
       "      <th>CÓDIGO_POSTAL</th>\n",
       "      <th>OBSERVACIONES_DIRECCION</th>\n",
       "      <th>LATITUD</th>\n",
       "      <th>LONGITUD</th>\n",
       "    </tr>\n",
       "  </thead>\n",
       "  <tbody>\n",
       "    <tr>\n",
       "      <td>0</td>\n",
       "      <td>01/01/2020</td>\n",
       "      <td>0:00:00</td>\n",
       "      <td>PERM_PEA02_PM01</td>\n",
       "      <td>497.0</td>\n",
       "      <td>1.0</td>\n",
       "      <td>Centro</td>\n",
       "      <td>Calle Fuencarral</td>\n",
       "      <td>22.0</td>\n",
       "      <td>28004.0</td>\n",
       "      <td>Calle peatonal Datos en prueba</td>\n",
       "      <td>40,4220090</td>\n",
       "      <td>-3,7008917</td>\n",
       "    </tr>\n",
       "    <tr>\n",
       "      <td>1</td>\n",
       "      <td>01/01/2020</td>\n",
       "      <td>0:15:00</td>\n",
       "      <td>PERM_PEA02_PM01</td>\n",
       "      <td>244.0</td>\n",
       "      <td>1.0</td>\n",
       "      <td>Centro</td>\n",
       "      <td>Calle Fuencarral</td>\n",
       "      <td>22.0</td>\n",
       "      <td>28004.0</td>\n",
       "      <td>Calle peatonal Datos en prueba</td>\n",
       "      <td>40,4220090</td>\n",
       "      <td>-3,7008917</td>\n",
       "    </tr>\n",
       "    <tr>\n",
       "      <td>2</td>\n",
       "      <td>01/01/2020</td>\n",
       "      <td>0:30:00</td>\n",
       "      <td>PERM_PEA02_PM01</td>\n",
       "      <td>179.0</td>\n",
       "      <td>1.0</td>\n",
       "      <td>Centro</td>\n",
       "      <td>Calle Fuencarral</td>\n",
       "      <td>22.0</td>\n",
       "      <td>28004.0</td>\n",
       "      <td>Calle peatonal Datos en prueba</td>\n",
       "      <td>40,4220090</td>\n",
       "      <td>-3,7008917</td>\n",
       "    </tr>\n",
       "    <tr>\n",
       "      <td>3</td>\n",
       "      <td>01/01/2020</td>\n",
       "      <td>0:45:00</td>\n",
       "      <td>PERM_PEA02_PM01</td>\n",
       "      <td>174.0</td>\n",
       "      <td>1.0</td>\n",
       "      <td>Centro</td>\n",
       "      <td>Calle Fuencarral</td>\n",
       "      <td>22.0</td>\n",
       "      <td>28004.0</td>\n",
       "      <td>Calle peatonal Datos en prueba</td>\n",
       "      <td>40,4220090</td>\n",
       "      <td>-3,7008917</td>\n",
       "    </tr>\n",
       "    <tr>\n",
       "      <td>4</td>\n",
       "      <td>01/01/2020</td>\n",
       "      <td>1:00:00</td>\n",
       "      <td>PERM_PEA02_PM01</td>\n",
       "      <td>131.0</td>\n",
       "      <td>1.0</td>\n",
       "      <td>Centro</td>\n",
       "      <td>Calle Fuencarral</td>\n",
       "      <td>22.0</td>\n",
       "      <td>28004.0</td>\n",
       "      <td>Calle peatonal Datos en prueba</td>\n",
       "      <td>40,4220090</td>\n",
       "      <td>-3,7008917</td>\n",
       "    </tr>\n",
       "  </tbody>\n",
       "</table>\n",
       "</div>"
      ],
      "text/plain": [
       "        FECHA     HORA    IDENTIFICADOR  PEATONES  NÚMERO_DISTRITO DISTRITO  \\\n",
       "0  01/01/2020  0:00:00  PERM_PEA02_PM01     497.0              1.0   Centro   \n",
       "1  01/01/2020  0:15:00  PERM_PEA02_PM01     244.0              1.0   Centro   \n",
       "2  01/01/2020  0:30:00  PERM_PEA02_PM01     179.0              1.0   Centro   \n",
       "3  01/01/2020  0:45:00  PERM_PEA02_PM01     174.0              1.0   Centro   \n",
       "4  01/01/2020  1:00:00  PERM_PEA02_PM01     131.0              1.0   Centro   \n",
       "\n",
       "        NOMBRE_VIAL  NÚMERO  CÓDIGO_POSTAL         OBSERVACIONES_DIRECCION  \\\n",
       "0  Calle Fuencarral    22.0        28004.0  Calle peatonal Datos en prueba   \n",
       "1  Calle Fuencarral    22.0        28004.0  Calle peatonal Datos en prueba   \n",
       "2  Calle Fuencarral    22.0        28004.0  Calle peatonal Datos en prueba   \n",
       "3  Calle Fuencarral    22.0        28004.0  Calle peatonal Datos en prueba   \n",
       "4  Calle Fuencarral    22.0        28004.0  Calle peatonal Datos en prueba   \n",
       "\n",
       "      LATITUD    LONGITUD  \n",
       "0  40,4220090  -3,7008917  \n",
       "1  40,4220090  -3,7008917  \n",
       "2  40,4220090  -3,7008917  \n",
       "3  40,4220090  -3,7008917  \n",
       "4  40,4220090  -3,7008917  "
      ]
     },
     "execution_count": 3,
     "metadata": {},
     "output_type": "execute_result"
    }
   ],
   "source": [
    "df_peatones.head()"
   ]
  },
  {
   "cell_type": "code",
   "execution_count": 4,
   "metadata": {},
   "outputs": [],
   "source": [
    "df_peatones.dropna(inplace=True)"
   ]
  },
  {
   "cell_type": "code",
   "execution_count": 5,
   "metadata": {},
   "outputs": [],
   "source": [
    "df_peatones[\"LATITUD\"]=df_peatones[\"LATITUD\"].astype(str).apply(lambda x:x.replace(\",\",\".\"))\n",
    "df_peatones[\"LATITUD\"]=pd.to_numeric(df_peatones[\"LATITUD\"])\n",
    "df_peatones[\"LONGITUD\"]=df_peatones[\"LONGITUD\"].astype(str).apply(lambda x:x.replace(\",\",\".\"))\n",
    "df_peatones[\"LONGITUD\"]=pd.to_numeric(df_peatones[\"LONGITUD\"])"
   ]
  },
  {
   "cell_type": "markdown",
   "metadata": {},
   "source": [
    "# Representación con basemap"
   ]
  },
  {
   "cell_type": "code",
   "execution_count": 6,
   "metadata": {},
   "outputs": [],
   "source": [
    "import os\n",
    "os.environ['PROJ_LIB'] = r'C:\\Users\\ivan_pinar\\AppData\\Local\\Continuum\\anaconda3\\Lib\\site-packages\\mpl_toolkits\\basemap'"
   ]
  },
  {
   "cell_type": "code",
   "execution_count": 7,
   "metadata": {},
   "outputs": [],
   "source": [
    "from mpl_toolkits.basemap import Basemap"
   ]
  },
  {
   "cell_type": "code",
   "execution_count": 8,
   "metadata": {},
   "outputs": [],
   "source": [
    "lat = df_peatones['LATITUD'].values\n",
    "lon = df_peatones['LONGITUD'].values\n",
    "peatones = df_peatones['PEATONES'].values"
   ]
  },
  {
   "cell_type": "code",
   "execution_count": 48,
   "metadata": {},
   "outputs": [
    {
     "data": {
      "image/png": "[encoded data removed]",
      "text/plain": [
       "<Figure size 576x576 with 2 Axes>"
      ]
     },
     "metadata": {
      "needs_background": "light"
     },
     "output_type": "display_data"
    }
   ],
   "source": [
    "# 1. Dibujar el mapa base\n",
    "fig = plt.figure(figsize=(8, 8))\n",
    "m = Basemap(projection='lcc', resolution='f', \n",
    "            lat_0=40.42, lon_0=-3.7,\n",
    "            width=0.5E4, height=0.5E4)\n",
    "m.shadedrelief()\n",
    "m.drawcoastlines(color='gray')\n",
    "m.drawcountries(color='gray')\n",
    "m.drawstates(color='gray')\n",
    "\n",
    "# 2. Representar los datos indicando en c el color \n",
    "# de los puntos y en \"s\" el tamaño\n",
    "m.scatter(lon, lat, latlon=True,\n",
    "          c=peatones, s=peatones,\n",
    "          cmap='Reds', alpha=0.5)\n",
    "\n",
    "# 3. Crear leyenda\n",
    "plt.colorbar(label=\"Tráfico peatonal\")\n",
    "plt.clim(peatones.min(),peatones.max())"
   ]
  },
  {
   "cell_type": "markdown",
   "metadata": {},
   "source": [
    "# Representación con Google Maps"
   ]
  },
  {
   "cell_type": "code",
   "execution_count": 11,
   "metadata": {},
   "outputs": [],
   "source": [
    "df_peatones_ene = df_peatones[df_peatones[\"FECHA\"]==\"01/01/2020\"]"
   ]
  },
  {
   "cell_type": "code",
   "execution_count": 12,
   "metadata": {},
   "outputs": [],
   "source": [
    "lat_ene = df_peatones_ene['LATITUD'].values\n",
    "lon_ene = df_peatones_ene['LONGITUD'].values\n",
    "peatones_ene = df_peatones_ene['PEATONES'].values"
   ]
  },
  {
   "cell_type": "code",
   "execution_count": 22,
   "metadata": {},
   "outputs": [],
   "source": [
    "import gmplot \n",
    "# GoogleMapPlotter\n",
    "gmap1 = gmplot.GoogleMapPlotter(40.42,-3.7, 13 )\n",
    "gmap1.scatter(lat_ene,lon_ene, 'red', size = 30, marker = False )\n",
    "gmap1.draw(r'C:\\Users\\ivan_pinar\\Dropbox\\Creación de MOCs\\MOC Master Python Análisis de Datos\\Datasets\\8.12\\mapa.html') "
   ]
  },
  {
   "cell_type": "code",
   "execution_count": 23,
   "metadata": {},
   "outputs": [],
   "source": [
    "import gmplot \n",
    "# GoogleMapPlotter\n",
    "gmap1 = gmplot.GoogleMapPlotter(40.42,-3.7, 13 )\n",
    "gmap1.heatmap(lat_ene,lon_ene)\n",
    "gmap1.draw(r'C:\\Users\\ivan_pinar\\Dropbox\\Creación de MOCs\\MOC Master Python Análisis de Datos\\Datasets\\8.12\\mapa_heat.html') "
   ]
  },
  {
   "cell_type": "code",
   "execution_count": null,
   "metadata": {},
   "outputs": [],
   "source": []
  }
 ],
 "metadata": {
  "kernelspec": {
   "display_name": "Python 3",
   "language": "python",
   "name": "python3"
  },
  "language_info": {
   "codemirror_mode": {
    "name": "ipython",
    "version": 3
   },
   "file_extension": ".py",
   "mimetype": "text/x-python",
   "name": "python",
   "nbconvert_exporter": "python",
   "pygments_lexer": "ipython3",
   "version": "3.7.3"
  }
 },
 "nbformat": 4,
 "nbformat_minor": 2
}
