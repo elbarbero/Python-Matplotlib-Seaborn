{
 "cells": [
  {
   "cell_type": "code",
   "execution_count": 2,
   "metadata": {},
   "outputs": [],
   "source": [
    "import pandas as pd\n",
    "import matplotlib.pyplot as plt\n",
    "import seaborn as sns"
   ]
  },
  {
   "cell_type": "code",
   "execution_count": 3,
   "metadata": {},
   "outputs": [],
   "source": [
    "df_temp = pd.read_excel(r'C:\\Users\\ivan_pinar\\Dropbox\\Creación de MOCs\\MOC Master Python Análisis de Datos\\Datasets\\9.5\\Temperaturas.xlsx',sheet_name=\"Sheet1\")"
   ]
  },
  {
   "cell_type": "code",
   "execution_count": 4,
   "metadata": {},
   "outputs": [
    {
     "data": {
      "text/html": [
       "<div>\n",
       "<style scoped>\n",
       "    .dataframe tbody tr th:only-of-type {\n",
       "        vertical-align: middle;\n",
       "    }\n",
       "\n",
       "    .dataframe tbody tr th {\n",
       "        vertical-align: top;\n",
       "    }\n",
       "\n",
       "    .dataframe thead th {\n",
       "        text-align: right;\n",
       "    }\n",
       "</style>\n",
       "<table border=\"1\" class=\"dataframe\">\n",
       "  <thead>\n",
       "    <tr style=\"text-align: right;\">\n",
       "      <th></th>\n",
       "      <th>FECHA</th>\n",
       "      <th>Ciudad</th>\n",
       "      <th>T. Máxima</th>\n",
       "      <th>T.Mínima</th>\n",
       "    </tr>\n",
       "  </thead>\n",
       "  <tbody>\n",
       "    <tr>\n",
       "      <td>0</td>\n",
       "      <td>2019-06-01</td>\n",
       "      <td>Madrid</td>\n",
       "      <td>33.1</td>\n",
       "      <td>17.2</td>\n",
       "    </tr>\n",
       "    <tr>\n",
       "      <td>1</td>\n",
       "      <td>2019-06-02</td>\n",
       "      <td>Madrid</td>\n",
       "      <td>34.5</td>\n",
       "      <td>19.0</td>\n",
       "    </tr>\n",
       "    <tr>\n",
       "      <td>2</td>\n",
       "      <td>2019-06-03</td>\n",
       "      <td>Madrid</td>\n",
       "      <td>32.8</td>\n",
       "      <td>20.3</td>\n",
       "    </tr>\n",
       "    <tr>\n",
       "      <td>3</td>\n",
       "      <td>2019-06-04</td>\n",
       "      <td>Madrid</td>\n",
       "      <td>29.0</td>\n",
       "      <td>18.9</td>\n",
       "    </tr>\n",
       "    <tr>\n",
       "      <td>4</td>\n",
       "      <td>2019-06-05</td>\n",
       "      <td>Madrid</td>\n",
       "      <td>22.1</td>\n",
       "      <td>12.7</td>\n",
       "    </tr>\n",
       "  </tbody>\n",
       "</table>\n",
       "</div>"
      ],
      "text/plain": [
       "       FECHA  Ciudad  T. Máxima  T.Mínima\n",
       "0 2019-06-01  Madrid       33.1      17.2\n",
       "1 2019-06-02  Madrid       34.5      19.0\n",
       "2 2019-06-03  Madrid       32.8      20.3\n",
       "3 2019-06-04  Madrid       29.0      18.9\n",
       "4 2019-06-05  Madrid       22.1      12.7"
      ]
     },
     "execution_count": 4,
     "metadata": {},
     "output_type": "execute_result"
    }
   ],
   "source": [
    "df_temp.head()"
   ]
  },
  {
   "cell_type": "code",
   "execution_count": 5,
   "metadata": {},
   "outputs": [],
   "source": [
    "df_temp[\"T.Promedio\"]=(df_temp[\"T. Máxima\"]+df_temp[\"T.Mínima\"])/2"
   ]
  },
  {
   "cell_type": "code",
   "execution_count": 10,
   "metadata": {},
   "outputs": [
    {
     "data": {
      "text/html": [
       "<div>\n",
       "<style scoped>\n",
       "    .dataframe tbody tr th:only-of-type {\n",
       "        vertical-align: middle;\n",
       "    }\n",
       "\n",
       "    .dataframe tbody tr th {\n",
       "        vertical-align: top;\n",
       "    }\n",
       "\n",
       "    .dataframe thead th {\n",
       "        text-align: right;\n",
       "    }\n",
       "</style>\n",
       "<table border=\"1\" class=\"dataframe\">\n",
       "  <thead>\n",
       "    <tr style=\"text-align: right;\">\n",
       "      <th></th>\n",
       "      <th>FECHA</th>\n",
       "      <th>Ciudad</th>\n",
       "      <th>T. Máxima</th>\n",
       "      <th>T.Mínima</th>\n",
       "      <th>T.Promedio</th>\n",
       "    </tr>\n",
       "  </thead>\n",
       "  <tbody>\n",
       "    <tr>\n",
       "      <td>0</td>\n",
       "      <td>2019-06-01</td>\n",
       "      <td>Madrid</td>\n",
       "      <td>33.1</td>\n",
       "      <td>17.2</td>\n",
       "      <td>25.15</td>\n",
       "    </tr>\n",
       "    <tr>\n",
       "      <td>1</td>\n",
       "      <td>2019-06-02</td>\n",
       "      <td>Madrid</td>\n",
       "      <td>34.5</td>\n",
       "      <td>19.0</td>\n",
       "      <td>26.75</td>\n",
       "    </tr>\n",
       "    <tr>\n",
       "      <td>2</td>\n",
       "      <td>2019-06-03</td>\n",
       "      <td>Madrid</td>\n",
       "      <td>32.8</td>\n",
       "      <td>20.3</td>\n",
       "      <td>26.55</td>\n",
       "    </tr>\n",
       "    <tr>\n",
       "      <td>3</td>\n",
       "      <td>2019-06-04</td>\n",
       "      <td>Madrid</td>\n",
       "      <td>29.0</td>\n",
       "      <td>18.9</td>\n",
       "      <td>23.95</td>\n",
       "    </tr>\n",
       "    <tr>\n",
       "      <td>4</td>\n",
       "      <td>2019-06-05</td>\n",
       "      <td>Madrid</td>\n",
       "      <td>22.1</td>\n",
       "      <td>12.7</td>\n",
       "      <td>17.40</td>\n",
       "    </tr>\n",
       "    <tr>\n",
       "      <td>...</td>\n",
       "      <td>...</td>\n",
       "      <td>...</td>\n",
       "      <td>...</td>\n",
       "      <td>...</td>\n",
       "      <td>...</td>\n",
       "    </tr>\n",
       "    <tr>\n",
       "      <td>727</td>\n",
       "      <td>2020-05-27</td>\n",
       "      <td>Barcelona</td>\n",
       "      <td>23.0</td>\n",
       "      <td>18.6</td>\n",
       "      <td>20.80</td>\n",
       "    </tr>\n",
       "    <tr>\n",
       "      <td>728</td>\n",
       "      <td>2020-05-28</td>\n",
       "      <td>Barcelona</td>\n",
       "      <td>22.7</td>\n",
       "      <td>17.6</td>\n",
       "      <td>20.15</td>\n",
       "    </tr>\n",
       "    <tr>\n",
       "      <td>729</td>\n",
       "      <td>2020-05-29</td>\n",
       "      <td>Barcelona</td>\n",
       "      <td>25.4</td>\n",
       "      <td>17.9</td>\n",
       "      <td>21.65</td>\n",
       "    </tr>\n",
       "    <tr>\n",
       "      <td>730</td>\n",
       "      <td>2020-05-30</td>\n",
       "      <td>Barcelona</td>\n",
       "      <td>23.5</td>\n",
       "      <td>17.4</td>\n",
       "      <td>20.45</td>\n",
       "    </tr>\n",
       "    <tr>\n",
       "      <td>731</td>\n",
       "      <td>2020-05-31</td>\n",
       "      <td>Barcelona</td>\n",
       "      <td>22.8</td>\n",
       "      <td>17.4</td>\n",
       "      <td>20.10</td>\n",
       "    </tr>\n",
       "  </tbody>\n",
       "</table>\n",
       "<p>732 rows × 5 columns</p>\n",
       "</div>"
      ],
      "text/plain": [
       "         FECHA     Ciudad  T. Máxima  T.Mínima  T.Promedio\n",
       "0   2019-06-01     Madrid       33.1      17.2       25.15\n",
       "1   2019-06-02     Madrid       34.5      19.0       26.75\n",
       "2   2019-06-03     Madrid       32.8      20.3       26.55\n",
       "3   2019-06-04     Madrid       29.0      18.9       23.95\n",
       "4   2019-06-05     Madrid       22.1      12.7       17.40\n",
       "..         ...        ...        ...       ...         ...\n",
       "727 2020-05-27  Barcelona       23.0      18.6       20.80\n",
       "728 2020-05-28  Barcelona       22.7      17.6       20.15\n",
       "729 2020-05-29  Barcelona       25.4      17.9       21.65\n",
       "730 2020-05-30  Barcelona       23.5      17.4       20.45\n",
       "731 2020-05-31  Barcelona       22.8      17.4       20.10\n",
       "\n",
       "[732 rows x 5 columns]"
      ]
     },
     "execution_count": 10,
     "metadata": {},
     "output_type": "execute_result"
    }
   ],
   "source": [
    "df_temp"
   ]
  },
  {
   "cell_type": "code",
   "execution_count": 7,
   "metadata": {},
   "outputs": [
    {
     "data": {
      "text/plain": [
       "<matplotlib.axes._subplots.AxesSubplot at 0x1bffbddffd0>"
      ]
     },
     "execution_count": 7,
     "metadata": {},
     "output_type": "execute_result"
    },
    {
     "data": {
      "image/png": "[encoded data removed]",
      "text/plain": [
       "<Figure size 432x288 with 1 Axes>"
      ]
     },
     "metadata": {
      "needs_background": "light"
     },
     "output_type": "display_data"
    }
   ],
   "source": [
    "sns.boxplot(x='Ciudad', y='T.Promedio', data=df_temp)"
   ]
  },
  {
   "cell_type": "code",
   "execution_count": 8,
   "metadata": {},
   "outputs": [
    {
     "data": {
      "text/plain": [
       "<matplotlib.axes._subplots.AxesSubplot at 0x1bffc1fcef0>"
      ]
     },
     "execution_count": 8,
     "metadata": {},
     "output_type": "execute_result"
    },
    {
     "data": {
      "image/png": "[encoded data removed]",
      "text/plain": [
       "<Figure size 432x288 with 1 Axes>"
      ]
     },
     "metadata": {
      "needs_background": "light"
     },
     "output_type": "display_data"
    }
   ],
   "source": [
    "sns.violinplot(x='Ciudad', y='T.Promedio', data=df_temp)"
   ]
  },
  {
   "cell_type": "markdown",
   "metadata": {},
   "source": [
    "# Ejercicio"
   ]
  },
  {
   "cell_type": "code",
   "execution_count": 4,
   "metadata": {},
   "outputs": [],
   "source": [
    "import pandas as pd\n",
    "import matplotlib.pyplot as plt\n",
    "import seaborn as sns"
   ]
  },
  {
   "cell_type": "code",
   "execution_count": 5,
   "metadata": {},
   "outputs": [],
   "source": [
    "df_peatones = pd.read_csv(r'C:\\Users\\ivan_pinar\\Dropbox\\Creación de MOCs\\MOC Master Python Análisis de Datos\\Datasets\\9.5\\PEATONES_2020_mod.csv',encoding = \"ISO-8859-1\",delimiter=';')"
   ]
  },
  {
   "cell_type": "code",
   "execution_count": 6,
   "metadata": {},
   "outputs": [
    {
     "data": {
      "text/html": [
       "<div>\n",
       "<style scoped>\n",
       "    .dataframe tbody tr th:only-of-type {\n",
       "        vertical-align: middle;\n",
       "    }\n",
       "\n",
       "    .dataframe tbody tr th {\n",
       "        vertical-align: top;\n",
       "    }\n",
       "\n",
       "    .dataframe thead th {\n",
       "        text-align: right;\n",
       "    }\n",
       "</style>\n",
       "<table border=\"1\" class=\"dataframe\">\n",
       "  <thead>\n",
       "    <tr style=\"text-align: right;\">\n",
       "      <th></th>\n",
       "      <th>FECHA</th>\n",
       "      <th>HORA</th>\n",
       "      <th>IDENTIFICADOR</th>\n",
       "      <th>PEATONES</th>\n",
       "      <th>NÚMERO_DISTRITO</th>\n",
       "      <th>DISTRITO</th>\n",
       "      <th>NOMBRE_VIAL</th>\n",
       "      <th>NÚMERO</th>\n",
       "      <th>CÓDIGO_POSTAL</th>\n",
       "      <th>OBSERVACIONES_DIRECCION</th>\n",
       "      <th>LATITUD</th>\n",
       "      <th>LONGITUD</th>\n",
       "    </tr>\n",
       "  </thead>\n",
       "  <tbody>\n",
       "    <tr>\n",
       "      <td>0</td>\n",
       "      <td>01/01/2020</td>\n",
       "      <td>0:00:00</td>\n",
       "      <td>PERM_PEA02_PM01</td>\n",
       "      <td>497.0</td>\n",
       "      <td>1.0</td>\n",
       "      <td>Centro</td>\n",
       "      <td>Calle Fuencarral</td>\n",
       "      <td>22.0</td>\n",
       "      <td>28004.0</td>\n",
       "      <td>Calle peatonal Datos en prueba</td>\n",
       "      <td>40,4220090</td>\n",
       "      <td>-3,7008917</td>\n",
       "    </tr>\n",
       "    <tr>\n",
       "      <td>1</td>\n",
       "      <td>01/01/2020</td>\n",
       "      <td>0:15:00</td>\n",
       "      <td>PERM_PEA02_PM01</td>\n",
       "      <td>244.0</td>\n",
       "      <td>1.0</td>\n",
       "      <td>Centro</td>\n",
       "      <td>Calle Fuencarral</td>\n",
       "      <td>22.0</td>\n",
       "      <td>28004.0</td>\n",
       "      <td>Calle peatonal Datos en prueba</td>\n",
       "      <td>40,4220090</td>\n",
       "      <td>-3,7008917</td>\n",
       "    </tr>\n",
       "    <tr>\n",
       "      <td>2</td>\n",
       "      <td>01/01/2020</td>\n",
       "      <td>0:30:00</td>\n",
       "      <td>PERM_PEA02_PM01</td>\n",
       "      <td>179.0</td>\n",
       "      <td>1.0</td>\n",
       "      <td>Centro</td>\n",
       "      <td>Calle Fuencarral</td>\n",
       "      <td>22.0</td>\n",
       "      <td>28004.0</td>\n",
       "      <td>Calle peatonal Datos en prueba</td>\n",
       "      <td>40,4220090</td>\n",
       "      <td>-3,7008917</td>\n",
       "    </tr>\n",
       "    <tr>\n",
       "      <td>3</td>\n",
       "      <td>01/01/2020</td>\n",
       "      <td>0:45:00</td>\n",
       "      <td>PERM_PEA02_PM01</td>\n",
       "      <td>174.0</td>\n",
       "      <td>1.0</td>\n",
       "      <td>Centro</td>\n",
       "      <td>Calle Fuencarral</td>\n",
       "      <td>22.0</td>\n",
       "      <td>28004.0</td>\n",
       "      <td>Calle peatonal Datos en prueba</td>\n",
       "      <td>40,4220090</td>\n",
       "      <td>-3,7008917</td>\n",
       "    </tr>\n",
       "    <tr>\n",
       "      <td>4</td>\n",
       "      <td>01/01/2020</td>\n",
       "      <td>1:00:00</td>\n",
       "      <td>PERM_PEA02_PM01</td>\n",
       "      <td>131.0</td>\n",
       "      <td>1.0</td>\n",
       "      <td>Centro</td>\n",
       "      <td>Calle Fuencarral</td>\n",
       "      <td>22.0</td>\n",
       "      <td>28004.0</td>\n",
       "      <td>Calle peatonal Datos en prueba</td>\n",
       "      <td>40,4220090</td>\n",
       "      <td>-3,7008917</td>\n",
       "    </tr>\n",
       "  </tbody>\n",
       "</table>\n",
       "</div>"
      ],
      "text/plain": [
       "        FECHA     HORA    IDENTIFICADOR  PEATONES  NÚMERO_DISTRITO DISTRITO  \\\n",
       "0  01/01/2020  0:00:00  PERM_PEA02_PM01     497.0              1.0   Centro   \n",
       "1  01/01/2020  0:15:00  PERM_PEA02_PM01     244.0              1.0   Centro   \n",
       "2  01/01/2020  0:30:00  PERM_PEA02_PM01     179.0              1.0   Centro   \n",
       "3  01/01/2020  0:45:00  PERM_PEA02_PM01     174.0              1.0   Centro   \n",
       "4  01/01/2020  1:00:00  PERM_PEA02_PM01     131.0              1.0   Centro   \n",
       "\n",
       "        NOMBRE_VIAL  NÚMERO  CÓDIGO_POSTAL         OBSERVACIONES_DIRECCION  \\\n",
       "0  Calle Fuencarral    22.0        28004.0  Calle peatonal Datos en prueba   \n",
       "1  Calle Fuencarral    22.0        28004.0  Calle peatonal Datos en prueba   \n",
       "2  Calle Fuencarral    22.0        28004.0  Calle peatonal Datos en prueba   \n",
       "3  Calle Fuencarral    22.0        28004.0  Calle peatonal Datos en prueba   \n",
       "4  Calle Fuencarral    22.0        28004.0  Calle peatonal Datos en prueba   \n",
       "\n",
       "      LATITUD    LONGITUD  \n",
       "0  40,4220090  -3,7008917  \n",
       "1  40,4220090  -3,7008917  \n",
       "2  40,4220090  -3,7008917  \n",
       "3  40,4220090  -3,7008917  \n",
       "4  40,4220090  -3,7008917  "
      ]
     },
     "execution_count": 6,
     "metadata": {},
     "output_type": "execute_result"
    }
   ],
   "source": [
    "df_peatones.head()"
   ]
  },
  {
   "cell_type": "code",
   "execution_count": 8,
   "metadata": {},
   "outputs": [
    {
     "data": {
      "image/png": "[encoded data removed]",
      "text/plain": [
       "<Figure size 1008x504 with 1 Axes>"
      ]
     },
     "metadata": {
      "needs_background": "light"
     },
     "output_type": "display_data"
    }
   ],
   "source": [
    "sns.violinplot(data=df_peatones,y=\"PEATONES\",x=\"DISTRITO\")\n",
    "fig = plt.gcf()\n",
    "fig.set_size_inches(14, 7)"
   ]
  },
  {
   "cell_type": "code",
   "execution_count": 9,
   "metadata": {},
   "outputs": [
    {
     "data": {
      "text/plain": [
       "<matplotlib.axes._subplots.AxesSubplot at 0x1e673fb61d0>"
      ]
     },
     "execution_count": 9,
     "metadata": {},
     "output_type": "execute_result"
    },
    {
     "data": {
      "image/png": "[encoded data removed]",
      "text/plain": [
       "<Figure size 432x288 with 1 Axes>"
      ]
     },
     "metadata": {
      "needs_background": "light"
     },
     "output_type": "display_data"
    }
   ],
   "source": [
    "df_peatones[df_peatones[\"DISTRITO\"]==\"Chamberí\"].groupby(\"HORA\")[\"PEATONES\"].agg(\"mean\").plot()"
   ]
  },
  {
   "cell_type": "code",
   "execution_count": null,
   "metadata": {},
   "outputs": [],
   "source": []
  },
  {
   "cell_type": "code",
   "execution_count": null,
   "metadata": {},
   "outputs": [],
   "source": []
  },
  {
   "cell_type": "code",
   "execution_count": null,
   "metadata": {},
   "outputs": [],
   "source": []
  },
  {
   "cell_type": "code",
   "execution_count": null,
   "metadata": {},
   "outputs": [],
   "source": []
  },
  {
   "cell_type": "code",
   "execution_count": null,
   "metadata": {},
   "outputs": [],
   "source": []
  },
  {
   "cell_type": "code",
   "execution_count": null,
   "metadata": {},
   "outputs": [],
   "source": []
  },
  {
   "cell_type": "code",
   "execution_count": null,
   "metadata": {},
   "outputs": [],
   "source": []
  },
  {
   "cell_type": "code",
   "execution_count": null,
   "metadata": {},
   "outputs": [],
   "source": []
  },
  {
   "cell_type": "code",
   "execution_count": null,
   "metadata": {},
   "outputs": [],
   "source": []
  },
  {
   "cell_type": "code",
   "execution_count": null,
   "metadata": {},
   "outputs": [],
   "source": []
  },
  {
   "cell_type": "code",
   "execution_count": null,
   "metadata": {},
   "outputs": [],
   "source": []
  },
  {
   "cell_type": "code",
   "execution_count": 15,
   "metadata": {},
   "outputs": [
    {
     "data": {
      "image/png": "[encoded data removed]",
      "text/plain": [
       "<Figure size 1008x504 with 1 Axes>"
      ]
     },
     "metadata": {
      "needs_background": "light"
     },
     "output_type": "display_data"
    }
   ],
   "source": [
    "sns.violinplot(x='DISTRITO', y='PEATONES', data=df_peatones)\n",
    "fig = plt.gcf()\n",
    "fig.set_size_inches(14, 7)"
   ]
  },
  {
   "cell_type": "code",
   "execution_count": 20,
   "metadata": {},
   "outputs": [
    {
     "data": {
      "text/plain": [
       "<matplotlib.axes._subplots.AxesSubplot at 0x1bf80b6d0b8>"
      ]
     },
     "execution_count": 20,
     "metadata": {},
     "output_type": "execute_result"
    },
    {
     "data": {
      "image/png": "[encoded data removed]",
      "text/plain": [
       "<Figure size 432x288 with 1 Axes>"
      ]
     },
     "metadata": {
      "needs_background": "light"
     },
     "output_type": "display_data"
    }
   ],
   "source": [
    "df_peatones[df_peatones[\"DISTRITO\"]==\"Chamberí\"].groupby(\"HORA\")[\"PEATONES\"].agg(\"mean\").plot()"
   ]
  }
 ],
 "metadata": {
  "kernelspec": {
   "display_name": "Python 3",
   "language": "python",
   "name": "python3"
  },
  "language_info": {
   "codemirror_mode": {
    "name": "ipython",
    "version": 3
   },
   "file_extension": ".py",
   "mimetype": "text/x-python",
   "name": "python",
   "nbconvert_exporter": "python",
   "pygments_lexer": "ipython3",
   "version": "3.7.3"
  }
 },
 "nbformat": 4,
 "nbformat_minor": 2
}
