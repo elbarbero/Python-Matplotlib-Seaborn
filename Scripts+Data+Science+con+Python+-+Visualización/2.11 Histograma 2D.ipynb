{
 "cells": [
  {
   "cell_type": "code",
   "execution_count": 1,
   "metadata": {},
   "outputs": [],
   "source": [
    "import pandas as pd"
   ]
  },
  {
   "cell_type": "code",
   "execution_count": 15,
   "metadata": {},
   "outputs": [],
   "source": [
    "import matplotlib.pyplot as plt"
   ]
  },
  {
   "cell_type": "code",
   "execution_count": 11,
   "metadata": {},
   "outputs": [],
   "source": [
    "df_ext = pd.read_csv(r'C:\\Users\\ivan_pinar\\Dropbox\\Creación de MOCs\\MOC Master Python Análisis de Datos\\Datasets\\8.11\\temp_hum_ext.csv',encoding = \"ISO-8859-1\",delimiter=',')"
   ]
  },
  {
   "cell_type": "code",
   "execution_count": 12,
   "metadata": {},
   "outputs": [
    {
     "data": {
      "text/html": [
       "<div>\n",
       "<style scoped>\n",
       "    .dataframe tbody tr th:only-of-type {\n",
       "        vertical-align: middle;\n",
       "    }\n",
       "\n",
       "    .dataframe tbody tr th {\n",
       "        vertical-align: top;\n",
       "    }\n",
       "\n",
       "    .dataframe thead th {\n",
       "        text-align: right;\n",
       "    }\n",
       "</style>\n",
       "<table border=\"1\" class=\"dataframe\">\n",
       "  <thead>\n",
       "    <tr style=\"text-align: right;\">\n",
       "      <th></th>\n",
       "      <th>Estación</th>\n",
       "      <th>Provincia</th>\n",
       "      <th>Temperatura (ºC)</th>\n",
       "      <th>Velocidad del viento (km/h)</th>\n",
       "      <th>Dirección del viento</th>\n",
       "      <th>Racha (km/h)</th>\n",
       "      <th>Dirección de racha</th>\n",
       "      <th>Precipitación (mm)</th>\n",
       "      <th>Presión (hPa)</th>\n",
       "      <th>Tendencia (hPa)</th>\n",
       "      <th>Humedad (%)</th>\n",
       "    </tr>\n",
       "  </thead>\n",
       "  <tbody>\n",
       "    <tr>\n",
       "      <td>0</td>\n",
       "      <td>Azuaga</td>\n",
       "      <td>Badajoz</td>\n",
       "      <td>12.6</td>\n",
       "      <td>9</td>\n",
       "      <td>Oeste</td>\n",
       "      <td>14</td>\n",
       "      <td>Noroeste</td>\n",
       "      <td>0.0</td>\n",
       "      <td>NaN</td>\n",
       "      <td>NaN</td>\n",
       "      <td>62.0</td>\n",
       "    </tr>\n",
       "    <tr>\n",
       "      <td>1</td>\n",
       "      <td>Badajoz</td>\n",
       "      <td>Badajoz</td>\n",
       "      <td>11.1</td>\n",
       "      <td>3</td>\n",
       "      <td>Oeste</td>\n",
       "      <td>8</td>\n",
       "      <td>Noroeste</td>\n",
       "      <td>0.0</td>\n",
       "      <td>NaN</td>\n",
       "      <td>NaN</td>\n",
       "      <td>90.0</td>\n",
       "    </tr>\n",
       "    <tr>\n",
       "      <td>2</td>\n",
       "      <td>Badajoz Aeropuerto</td>\n",
       "      <td>Badajoz</td>\n",
       "      <td>14.4</td>\n",
       "      <td>5</td>\n",
       "      <td>Oeste</td>\n",
       "      <td>11</td>\n",
       "      <td>Oeste</td>\n",
       "      <td>0.0</td>\n",
       "      <td>995.7</td>\n",
       "      <td>0.9</td>\n",
       "      <td>71.0</td>\n",
       "    </tr>\n",
       "    <tr>\n",
       "      <td>3</td>\n",
       "      <td>Barcarrota</td>\n",
       "      <td>Badajoz</td>\n",
       "      <td>8.4</td>\n",
       "      <td>5</td>\n",
       "      <td>Este</td>\n",
       "      <td>10</td>\n",
       "      <td>Este</td>\n",
       "      <td>0.0</td>\n",
       "      <td>974.3</td>\n",
       "      <td>0.4</td>\n",
       "      <td>94.0</td>\n",
       "    </tr>\n",
       "    <tr>\n",
       "      <td>4</td>\n",
       "      <td>Brozas</td>\n",
       "      <td>Cáceres</td>\n",
       "      <td>13.3</td>\n",
       "      <td>13</td>\n",
       "      <td>Nordeste</td>\n",
       "      <td>23</td>\n",
       "      <td>Nordeste</td>\n",
       "      <td>0.0</td>\n",
       "      <td>NaN</td>\n",
       "      <td>NaN</td>\n",
       "      <td>61.0</td>\n",
       "    </tr>\n",
       "  </tbody>\n",
       "</table>\n",
       "</div>"
      ],
      "text/plain": [
       "             Estación Provincia  Temperatura (ºC)  \\\n",
       "0              Azuaga   Badajoz              12.6   \n",
       "1             Badajoz   Badajoz              11.1   \n",
       "2  Badajoz Aeropuerto   Badajoz              14.4   \n",
       "3          Barcarrota   Badajoz               8.4   \n",
       "4              Brozas   Cáceres              13.3   \n",
       "\n",
       "   Velocidad del viento (km/h) Dirección del viento  Racha (km/h)  \\\n",
       "0                            9                Oeste            14   \n",
       "1                            3                Oeste             8   \n",
       "2                            5                Oeste            11   \n",
       "3                            5                 Este            10   \n",
       "4                           13             Nordeste            23   \n",
       "\n",
       "  Dirección de racha  Precipitación (mm)  Presión (hPa)  Tendencia (hPa)  \\\n",
       "0           Noroeste                 0.0            NaN              NaN   \n",
       "1           Noroeste                 0.0            NaN              NaN   \n",
       "2              Oeste                 0.0          995.7              0.9   \n",
       "3               Este                 0.0          974.3              0.4   \n",
       "4           Nordeste                 0.0            NaN              NaN   \n",
       "\n",
       "   Humedad (%)  \n",
       "0         62.0  \n",
       "1         90.0  \n",
       "2         71.0  \n",
       "3         94.0  \n",
       "4         61.0  "
      ]
     },
     "execution_count": 12,
     "metadata": {},
     "output_type": "execute_result"
    }
   ],
   "source": [
    "df_ext.head()"
   ]
  },
  {
   "cell_type": "code",
   "execution_count": 20,
   "metadata": {},
   "outputs": [],
   "source": [
    "df_ext.dropna(inplace=True)"
   ]
  },
  {
   "cell_type": "code",
   "execution_count": 36,
   "metadata": {},
   "outputs": [
    {
     "data": {
      "text/plain": [
       "Text(0, 0.5, 'Humedad (%)')"
      ]
     },
     "execution_count": 36,
     "metadata": {},
     "output_type": "execute_result"
    },
    {
     "data": {
      "image/png": "[encoded data removed]",
      "text/plain": [
       "<Figure size 432x288 with 1 Axes>"
      ]
     },
     "metadata": {
      "needs_background": "light"
     },
     "output_type": "display_data"
    }
   ],
   "source": [
    "plt.scatter(df_ext[\"Temperatura (ºC)\"],df_ext[\"Humedad (%)\"])\n",
    "plt.xlabel(\"Temperatura (ºC)\")\n",
    "plt.ylabel(\"Humedad (%)\")"
   ]
  },
  {
   "cell_type": "code",
   "execution_count": 41,
   "metadata": {},
   "outputs": [
    {
     "data": {
      "text/plain": [
       "Text(0.5, 1.0, '¿Cuál es la combinación de temperatura-humedad típica en Extremadura?')"
      ]
     },
     "execution_count": 41,
     "metadata": {},
     "output_type": "execute_result"
    },
    {
     "data": {
      "image/png": "[encoded data removed]",
      "text/plain": [
       "<Figure size 432x288 with 2 Axes>"
      ]
     },
     "metadata": {
      "needs_background": "light"
     },
     "output_type": "display_data"
    }
   ],
   "source": [
    "plt.hist2d(df_ext[\"Temperatura (ºC)\"],df_ext[\"Humedad (%)\"], bins=(5,5),cmap=plt.cm.viridis)\n",
    "plt.colorbar()\n",
    "plt.xlabel(\"Temperatura (ºC)\")\n",
    "plt.ylabel(\"Humedad (%)\")\n",
    "plt.title(\"¿Cuál es la combinación de temperatura-humedad típica en Extremadura?\")"
   ]
  },
  {
   "cell_type": "code",
   "execution_count": null,
   "metadata": {},
   "outputs": [],
   "source": []
  }
 ],
 "metadata": {
  "kernelspec": {
   "display_name": "Python 3",
   "language": "python",
   "name": "python3"
  },
  "language_info": {
   "codemirror_mode": {
    "name": "ipython",
    "version": 3
   },
   "file_extension": ".py",
   "mimetype": "text/x-python",
   "name": "python",
   "nbconvert_exporter": "python",
   "pygments_lexer": "ipython3",
   "version": "3.7.3"
  }
 },
 "nbformat": 4,
 "nbformat_minor": 2
}
