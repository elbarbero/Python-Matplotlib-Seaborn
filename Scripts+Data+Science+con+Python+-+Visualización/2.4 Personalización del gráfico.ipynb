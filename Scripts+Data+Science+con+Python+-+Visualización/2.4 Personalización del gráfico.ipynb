{
 "cells": [
  {
   "cell_type": "code",
   "execution_count": 1,
   "metadata": {},
   "outputs": [],
   "source": [
    "import matplotlib.pyplot as plt\n",
    "import pandas as pd"
   ]
  },
  {
   "cell_type": "code",
   "execution_count": 2,
   "metadata": {},
   "outputs": [],
   "source": [
    "info_pais = {\"pais\":[\"Brasil\", \"México\", \"España\", \"Perú\", \"Colombia\", \"Venezuela\"],\n",
    "             \"capital\":[\"Brasilia\",\"Ciudad de México\",\"Madrid\",\"Lima\",\"Bogotá\",\"Caracas\"],\n",
    "             \"superficie (Mkm2)\": [8.5, 1.9, 1.2, 0.5, 1.1,0.9]}"
   ]
  },
  {
   "cell_type": "code",
   "execution_count": 3,
   "metadata": {},
   "outputs": [],
   "source": [
    "df_pais = pd.DataFrame(info_pais)"
   ]
  },
  {
   "cell_type": "code",
   "execution_count": 4,
   "metadata": {},
   "outputs": [
    {
     "data": {
      "text/html": [
       "<div>\n",
       "<style scoped>\n",
       "    .dataframe tbody tr th:only-of-type {\n",
       "        vertical-align: middle;\n",
       "    }\n",
       "\n",
       "    .dataframe tbody tr th {\n",
       "        vertical-align: top;\n",
       "    }\n",
       "\n",
       "    .dataframe thead th {\n",
       "        text-align: right;\n",
       "    }\n",
       "</style>\n",
       "<table border=\"1\" class=\"dataframe\">\n",
       "  <thead>\n",
       "    <tr style=\"text-align: right;\">\n",
       "      <th></th>\n",
       "      <th>pais</th>\n",
       "      <th>capital</th>\n",
       "      <th>superficie (Mkm2)</th>\n",
       "    </tr>\n",
       "  </thead>\n",
       "  <tbody>\n",
       "    <tr>\n",
       "      <td>0</td>\n",
       "      <td>Brasil</td>\n",
       "      <td>Brasilia</td>\n",
       "      <td>8.5</td>\n",
       "    </tr>\n",
       "    <tr>\n",
       "      <td>1</td>\n",
       "      <td>México</td>\n",
       "      <td>Ciudad de México</td>\n",
       "      <td>1.9</td>\n",
       "    </tr>\n",
       "    <tr>\n",
       "      <td>2</td>\n",
       "      <td>España</td>\n",
       "      <td>Madrid</td>\n",
       "      <td>1.2</td>\n",
       "    </tr>\n",
       "    <tr>\n",
       "      <td>3</td>\n",
       "      <td>Perú</td>\n",
       "      <td>Lima</td>\n",
       "      <td>0.5</td>\n",
       "    </tr>\n",
       "    <tr>\n",
       "      <td>4</td>\n",
       "      <td>Colombia</td>\n",
       "      <td>Bogotá</td>\n",
       "      <td>1.1</td>\n",
       "    </tr>\n",
       "    <tr>\n",
       "      <td>5</td>\n",
       "      <td>Venezuela</td>\n",
       "      <td>Caracas</td>\n",
       "      <td>0.9</td>\n",
       "    </tr>\n",
       "  </tbody>\n",
       "</table>\n",
       "</div>"
      ],
      "text/plain": [
       "        pais           capital  superficie (Mkm2)\n",
       "0     Brasil          Brasilia                8.5\n",
       "1     México  Ciudad de México                1.9\n",
       "2     España            Madrid                1.2\n",
       "3       Perú              Lima                0.5\n",
       "4   Colombia            Bogotá                1.1\n",
       "5  Venezuela           Caracas                0.9"
      ]
     },
     "execution_count": 4,
     "metadata": {},
     "output_type": "execute_result"
    }
   ],
   "source": [
    "df_pais"
   ]
  },
  {
   "cell_type": "code",
   "execution_count": 5,
   "metadata": {},
   "outputs": [],
   "source": [
    "df_pais.sort_values(\"superficie (Mkm2)\",ascending=False,inplace=True)"
   ]
  },
  {
   "cell_type": "code",
   "execution_count": 6,
   "metadata": {
    "scrolled": true
   },
   "outputs": [
    {
     "data": {
      "text/html": [
       "<div>\n",
       "<style scoped>\n",
       "    .dataframe tbody tr th:only-of-type {\n",
       "        vertical-align: middle;\n",
       "    }\n",
       "\n",
       "    .dataframe tbody tr th {\n",
       "        vertical-align: top;\n",
       "    }\n",
       "\n",
       "    .dataframe thead th {\n",
       "        text-align: right;\n",
       "    }\n",
       "</style>\n",
       "<table border=\"1\" class=\"dataframe\">\n",
       "  <thead>\n",
       "    <tr style=\"text-align: right;\">\n",
       "      <th></th>\n",
       "      <th>pais</th>\n",
       "      <th>capital</th>\n",
       "      <th>superficie (Mkm2)</th>\n",
       "    </tr>\n",
       "  </thead>\n",
       "  <tbody>\n",
       "    <tr>\n",
       "      <td>0</td>\n",
       "      <td>Brasil</td>\n",
       "      <td>Brasilia</td>\n",
       "      <td>8.5</td>\n",
       "    </tr>\n",
       "    <tr>\n",
       "      <td>1</td>\n",
       "      <td>México</td>\n",
       "      <td>Ciudad de México</td>\n",
       "      <td>1.9</td>\n",
       "    </tr>\n",
       "    <tr>\n",
       "      <td>2</td>\n",
       "      <td>España</td>\n",
       "      <td>Madrid</td>\n",
       "      <td>1.2</td>\n",
       "    </tr>\n",
       "    <tr>\n",
       "      <td>4</td>\n",
       "      <td>Colombia</td>\n",
       "      <td>Bogotá</td>\n",
       "      <td>1.1</td>\n",
       "    </tr>\n",
       "    <tr>\n",
       "      <td>5</td>\n",
       "      <td>Venezuela</td>\n",
       "      <td>Caracas</td>\n",
       "      <td>0.9</td>\n",
       "    </tr>\n",
       "    <tr>\n",
       "      <td>3</td>\n",
       "      <td>Perú</td>\n",
       "      <td>Lima</td>\n",
       "      <td>0.5</td>\n",
       "    </tr>\n",
       "  </tbody>\n",
       "</table>\n",
       "</div>"
      ],
      "text/plain": [
       "        pais           capital  superficie (Mkm2)\n",
       "0     Brasil          Brasilia                8.5\n",
       "1     México  Ciudad de México                1.9\n",
       "2     España            Madrid                1.2\n",
       "4   Colombia            Bogotá                1.1\n",
       "5  Venezuela           Caracas                0.9\n",
       "3       Perú              Lima                0.5"
      ]
     },
     "execution_count": 6,
     "metadata": {},
     "output_type": "execute_result"
    }
   ],
   "source": [
    "df_pais"
   ]
  },
  {
   "cell_type": "code",
   "execution_count": 7,
   "metadata": {
    "scrolled": true
   },
   "outputs": [
    {
     "data": {
      "text/plain": [
       "([<matplotlib.axis.YTick at 0x15a6c90c908>,\n",
       "  <matplotlib.axis.YTick at 0x15a6c63efd0>,\n",
       "  <matplotlib.axis.YTick at 0x15a6c8f8240>,\n",
       "  <matplotlib.axis.YTick at 0x15a6c952be0>,\n",
       "  <matplotlib.axis.YTick at 0x15a6c962128>,\n",
       "  <matplotlib.axis.YTick at 0x15a6c962588>,\n",
       "  <matplotlib.axis.YTick at 0x15a6c962a58>,\n",
       "  <matplotlib.axis.YTick at 0x15a6c962f28>,\n",
       "  <matplotlib.axis.YTick at 0x15a6c9626d8>],\n",
       " <a list of 9 Text yticklabel objects>)"
      ]
     },
     "execution_count": 7,
     "metadata": {},
     "output_type": "execute_result"
    },
    {
     "data": {
      "image/png": "[encoded data removed]",
      "text/plain": [
       "<Figure size 756x576 with 1 Axes>"
      ]
     },
     "metadata": {
      "needs_background": "light"
     },
     "output_type": "display_data"
    }
   ],
   "source": [
    "plt.bar(df_pais[\"pais\"],df_pais[\"superficie (Mkm2)\"],color=[\"green\",\"blue\",\"blue\",\"blue\",\"blue\",\"blue\"])\n",
    "plt.title(\"¿Qué país tiene mayor superficie\")\n",
    "plt.xlabel(\"País\")\n",
    "plt.ylabel(\"Superficie (Mkm2)\")\n",
    "plt.legend([\"País TOP 1\"])\n",
    "for i in range(0,6):\n",
    "    plt.annotate(df_pais[\"superficie (Mkm2)\"][i],(df_pais[\"pais\"][i],df_pais[\"superficie (Mkm2)\"][i]))\n",
    "    \n",
    "fig = plt.gcf()\n",
    "fig.set_size_inches(10.5, 8)\n",
    "plt.yticks(ticks=range(1,10,1))\n"
   ]
  },
  {
   "cell_type": "code",
   "execution_count": 8,
   "metadata": {},
   "outputs": [
    {
     "data": {
      "text/plain": [
       "['bmh',\n",
       " 'classic',\n",
       " 'dark_background',\n",
       " 'fast',\n",
       " 'fivethirtyeight',\n",
       " 'ggplot',\n",
       " 'grayscale',\n",
       " 'seaborn-bright',\n",
       " 'seaborn-colorblind',\n",
       " 'seaborn-dark-palette',\n",
       " 'seaborn-dark',\n",
       " 'seaborn-darkgrid',\n",
       " 'seaborn-deep',\n",
       " 'seaborn-muted',\n",
       " 'seaborn-notebook',\n",
       " 'seaborn-paper',\n",
       " 'seaborn-pastel',\n",
       " 'seaborn-poster',\n",
       " 'seaborn-talk',\n",
       " 'seaborn-ticks',\n",
       " 'seaborn-white',\n",
       " 'seaborn-whitegrid',\n",
       " 'seaborn',\n",
       " 'Solarize_Light2',\n",
       " 'tableau-colorblind10',\n",
       " '_classic_test']"
      ]
     },
     "execution_count": 8,
     "metadata": {},
     "output_type": "execute_result"
    }
   ],
   "source": [
    "plt.style.available"
   ]
  },
  {
   "cell_type": "code",
   "execution_count": 42,
   "metadata": {},
   "outputs": [],
   "source": [
    "plt.style.use('dark_background')"
   ]
  },
  {
   "cell_type": "code",
   "execution_count": 43,
   "metadata": {},
   "outputs": [
    {
     "data": {
      "text/plain": [
       "([<matplotlib.axis.YTick at 0x15a6e7d7550>,\n",
       "  <matplotlib.axis.YTick at 0x15a6e7cc438>,\n",
       "  <matplotlib.axis.YTick at 0x15a6e7d2f28>,\n",
       "  <matplotlib.axis.YTick at 0x15a6eae39e8>,\n",
       "  <matplotlib.axis.YTick at 0x15a6eae3d30>,\n",
       "  <matplotlib.axis.YTick at 0x15a6eae9278>,\n",
       "  <matplotlib.axis.YTick at 0x15a6eae9710>,\n",
       "  <matplotlib.axis.YTick at 0x15a6eae9be0>,\n",
       "  <matplotlib.axis.YTick at 0x15a6eae9400>],\n",
       " <a list of 9 Text yticklabel objects>)"
      ]
     },
     "execution_count": 43,
     "metadata": {},
     "output_type": "execute_result"
    },
    {
     "data": {
      "image/png": "[encoded data removed]",
      "text/plain": [
       "<Figure size 756x576 with 1 Axes>"
      ]
     },
     "metadata": {},
     "output_type": "display_data"
    }
   ],
   "source": [
    "plt.bar(df_pais[\"pais\"],df_pais[\"superficie (Mkm2)\"],color=[\"green\",\"blue\",\"blue\",\"blue\",\"blue\",\"blue\"])\n",
    "plt.title(\"¿Qué país tiene mayor superficie\")\n",
    "plt.xlabel(\"País\")\n",
    "plt.ylabel(\"Superficie (Mkm2)\")\n",
    "plt.legend([\"País TOP 1\"])\n",
    "for i in range(0,6):\n",
    "    plt.annotate(df_pais[\"superficie (Mkm2)\"][i],(df_pais[\"pais\"][i],df_pais[\"superficie (Mkm2)\"][i]))\n",
    "    \n",
    "fig = plt.gcf()\n",
    "fig.set_size_inches(10.5, 8)\n",
    "plt.yticks(ticks=range(1,10,1))"
   ]
  }
 ],
 "metadata": {
  "kernelspec": {
   "display_name": "Python 3",
   "language": "python",
   "name": "python3"
  },
  "language_info": {
   "codemirror_mode": {
    "name": "ipython",
    "version": 3
   },
   "file_extension": ".py",
   "mimetype": "text/x-python",
   "name": "python",
   "nbconvert_exporter": "python",
   "pygments_lexer": "ipython3",
   "version": "3.7.3"
  }
 },
 "nbformat": 4,
 "nbformat_minor": 2
}
