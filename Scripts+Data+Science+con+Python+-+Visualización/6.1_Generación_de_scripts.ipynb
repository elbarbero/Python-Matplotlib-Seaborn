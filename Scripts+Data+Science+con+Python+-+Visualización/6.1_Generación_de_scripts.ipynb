{
 "cells": [
  {
   "cell_type": "code",
   "execution_count": 1,
   "metadata": {},
   "outputs": [],
   "source": [
    "import pandas as pd"
   ]
  },
  {
   "cell_type": "markdown",
   "metadata": {},
   "source": [
    "# Importación de datos de ventas diario"
   ]
  },
  {
   "cell_type": "code",
   "execution_count": 16,
   "metadata": {},
   "outputs": [],
   "source": [
    "df_ventas_dia = pd.read_csv(r'C:\\Users\\ivan_pinar\\Dropbox\\Creación de MOCs\\MOC Master Python Análisis de Datos\\Datasets\\12.1\\Ventas_dia.csv',encoding = \"ISO-8859-1\",delimiter=';',parse_dates=True)"
   ]
  },
  {
   "cell_type": "code",
   "execution_count": 17,
   "metadata": {},
   "outputs": [
    {
     "data": {
      "text/html": [
       "<div>\n",
       "<style scoped>\n",
       "    .dataframe tbody tr th:only-of-type {\n",
       "        vertical-align: middle;\n",
       "    }\n",
       "\n",
       "    .dataframe tbody tr th {\n",
       "        vertical-align: top;\n",
       "    }\n",
       "\n",
       "    .dataframe thead th {\n",
       "        text-align: right;\n",
       "    }\n",
       "</style>\n",
       "<table border=\"1\" class=\"dataframe\">\n",
       "  <thead>\n",
       "    <tr style=\"text-align: right;\">\n",
       "      <th></th>\n",
       "      <th>ID_Pedido</th>\n",
       "      <th>Unidades</th>\n",
       "      <th>Precio Unitario</th>\n",
       "      <th>Fecha</th>\n",
       "      <th>Línea de Producto</th>\n",
       "      <th>Código de Producto</th>\n",
       "      <th>País</th>\n",
       "      <th>Territorio</th>\n",
       "    </tr>\n",
       "  </thead>\n",
       "  <tbody>\n",
       "    <tr>\n",
       "      <td>0</td>\n",
       "      <td>3</td>\n",
       "      <td>66</td>\n",
       "      <td>85,39</td>\n",
       "      <td>01/06/2022</td>\n",
       "      <td>Classic Cars</td>\n",
       "      <td>S12_1099</td>\n",
       "      <td>Finland</td>\n",
       "      <td>EU</td>\n",
       "    </tr>\n",
       "    <tr>\n",
       "      <td>1</td>\n",
       "      <td>4</td>\n",
       "      <td>68</td>\n",
       "      <td>96,73</td>\n",
       "      <td>01/06/2022</td>\n",
       "      <td>Classic Cars</td>\n",
       "      <td>S12_3380</td>\n",
       "      <td>Finland</td>\n",
       "      <td>EU</td>\n",
       "    </tr>\n",
       "    <tr>\n",
       "      <td>2</td>\n",
       "      <td>5</td>\n",
       "      <td>68</td>\n",
       "      <td>81,62</td>\n",
       "      <td>01/06/2022</td>\n",
       "      <td>Classic Cars</td>\n",
       "      <td>S12_3990</td>\n",
       "      <td>Finland</td>\n",
       "      <td>EU</td>\n",
       "    </tr>\n",
       "    <tr>\n",
       "      <td>3</td>\n",
       "      <td>6</td>\n",
       "      <td>92</td>\n",
       "      <td>88,45</td>\n",
       "      <td>01/06/2022</td>\n",
       "      <td>Classic Cars</td>\n",
       "      <td>S12_4675</td>\n",
       "      <td>Finland</td>\n",
       "      <td>EU</td>\n",
       "    </tr>\n",
       "    <tr>\n",
       "      <td>4</td>\n",
       "      <td>7</td>\n",
       "      <td>44</td>\n",
       "      <td>100</td>\n",
       "      <td>01/06/2022</td>\n",
       "      <td>Classic Cars</td>\n",
       "      <td>S18_1889</td>\n",
       "      <td>Finland</td>\n",
       "      <td>EU</td>\n",
       "    </tr>\n",
       "    <tr>\n",
       "      <td>5</td>\n",
       "      <td>10</td>\n",
       "      <td>92</td>\n",
       "      <td>60,3</td>\n",
       "      <td>01/06/2022</td>\n",
       "      <td>Classic Cars</td>\n",
       "      <td>S18_3278</td>\n",
       "      <td>Finland</td>\n",
       "      <td>EU</td>\n",
       "    </tr>\n",
       "    <tr>\n",
       "      <td>6</td>\n",
       "      <td>11</td>\n",
       "      <td>48</td>\n",
       "      <td>100</td>\n",
       "      <td>01/06/2022</td>\n",
       "      <td>Classic Cars</td>\n",
       "      <td>S18_3482</td>\n",
       "      <td>Spain</td>\n",
       "      <td>EU</td>\n",
       "    </tr>\n",
       "    <tr>\n",
       "      <td>7</td>\n",
       "      <td>12</td>\n",
       "      <td>64</td>\n",
       "      <td>89,12</td>\n",
       "      <td>01/06/2022</td>\n",
       "      <td>Motorcycles</td>\n",
       "      <td>S18_3782</td>\n",
       "      <td>Spain</td>\n",
       "      <td>EU</td>\n",
       "    </tr>\n",
       "    <tr>\n",
       "      <td>8</td>\n",
       "      <td>13</td>\n",
       "      <td>56</td>\n",
       "      <td>58,18</td>\n",
       "      <td>01/06/2022</td>\n",
       "      <td>Classic Cars</td>\n",
       "      <td>S18_4721</td>\n",
       "      <td>Spain</td>\n",
       "      <td>EU</td>\n",
       "    </tr>\n",
       "    <tr>\n",
       "      <td>9</td>\n",
       "      <td>8</td>\n",
       "      <td>42</td>\n",
       "      <td>100</td>\n",
       "      <td>01/06/2022</td>\n",
       "      <td>Motorcycles</td>\n",
       "      <td>S24_2000</td>\n",
       "      <td>Spain</td>\n",
       "      <td>EU</td>\n",
       "    </tr>\n",
       "    <tr>\n",
       "      <td>10</td>\n",
       "      <td>14</td>\n",
       "      <td>86</td>\n",
       "      <td>61,23</td>\n",
       "      <td>01/06/2022</td>\n",
       "      <td>Motorcycles</td>\n",
       "      <td>S24_2360</td>\n",
       "      <td>Spain</td>\n",
       "      <td>EU</td>\n",
       "    </tr>\n",
       "    <tr>\n",
       "      <td>11</td>\n",
       "      <td>15</td>\n",
       "      <td>42</td>\n",
       "      <td>100</td>\n",
       "      <td>01/06/2022</td>\n",
       "      <td>Classic Cars</td>\n",
       "      <td>S24_3371</td>\n",
       "      <td>Spain</td>\n",
       "      <td>EU</td>\n",
       "    </tr>\n",
       "    <tr>\n",
       "      <td>12</td>\n",
       "      <td>1</td>\n",
       "      <td>62</td>\n",
       "      <td>94,58</td>\n",
       "      <td>01/06/2022</td>\n",
       "      <td>Classic Cars</td>\n",
       "      <td>S24_3856</td>\n",
       "      <td>Spain</td>\n",
       "      <td>EU</td>\n",
       "    </tr>\n",
       "    <tr>\n",
       "      <td>13</td>\n",
       "      <td>9</td>\n",
       "      <td>86</td>\n",
       "      <td>100</td>\n",
       "      <td>01/06/2022</td>\n",
       "      <td>Classic Cars</td>\n",
       "      <td>S24_4620</td>\n",
       "      <td>Spain</td>\n",
       "      <td>EU</td>\n",
       "    </tr>\n",
       "    <tr>\n",
       "      <td>14</td>\n",
       "      <td>2</td>\n",
       "      <td>100</td>\n",
       "      <td>100</td>\n",
       "      <td>01/06/2022</td>\n",
       "      <td>Motorcycles</td>\n",
       "      <td>S32_1374</td>\n",
       "      <td>Spain</td>\n",
       "      <td>EU</td>\n",
       "    </tr>\n",
       "    <tr>\n",
       "      <td>15</td>\n",
       "      <td>1</td>\n",
       "      <td>96</td>\n",
       "      <td>48,28</td>\n",
       "      <td>01/06/2022</td>\n",
       "      <td>Motorcycles</td>\n",
       "      <td>S32_2206</td>\n",
       "      <td>Spain</td>\n",
       "      <td>EU</td>\n",
       "    </tr>\n",
       "  </tbody>\n",
       "</table>\n",
       "</div>"
      ],
      "text/plain": [
       "    ID_Pedido  Unidades Precio Unitario       Fecha Línea de Producto  \\\n",
       "0           3        66           85,39  01/06/2022      Classic Cars   \n",
       "1           4        68           96,73  01/06/2022      Classic Cars   \n",
       "2           5        68           81,62  01/06/2022      Classic Cars   \n",
       "3           6        92           88,45  01/06/2022      Classic Cars   \n",
       "4           7        44             100  01/06/2022      Classic Cars   \n",
       "5          10        92            60,3  01/06/2022      Classic Cars   \n",
       "6          11        48             100  01/06/2022      Classic Cars   \n",
       "7          12        64           89,12  01/06/2022       Motorcycles   \n",
       "8          13        56           58,18  01/06/2022      Classic Cars   \n",
       "9           8        42             100  01/06/2022       Motorcycles   \n",
       "10         14        86           61,23  01/06/2022       Motorcycles   \n",
       "11         15        42             100  01/06/2022      Classic Cars   \n",
       "12          1        62           94,58  01/06/2022      Classic Cars   \n",
       "13          9        86             100  01/06/2022      Classic Cars   \n",
       "14          2       100             100  01/06/2022       Motorcycles   \n",
       "15          1        96           48,28  01/06/2022       Motorcycles   \n",
       "\n",
       "   Código de Producto     País Territorio  \n",
       "0            S12_1099  Finland         EU  \n",
       "1            S12_3380  Finland         EU  \n",
       "2            S12_3990  Finland         EU  \n",
       "3            S12_4675  Finland         EU  \n",
       "4            S18_1889  Finland         EU  \n",
       "5            S18_3278  Finland         EU  \n",
       "6            S18_3482    Spain         EU  \n",
       "7            S18_3782    Spain         EU  \n",
       "8            S18_4721    Spain         EU  \n",
       "9            S24_2000    Spain         EU  \n",
       "10           S24_2360    Spain         EU  \n",
       "11           S24_3371    Spain         EU  \n",
       "12           S24_3856    Spain         EU  \n",
       "13           S24_4620    Spain         EU  \n",
       "14           S32_1374    Spain         EU  \n",
       "15           S32_2206    Spain         EU  "
      ]
     },
     "execution_count": 17,
     "metadata": {},
     "output_type": "execute_result"
    }
   ],
   "source": [
    "df_ventas_dia"
   ]
  },
  {
   "cell_type": "code",
   "execution_count": 20,
   "metadata": {},
   "outputs": [],
   "source": [
    "df_ventas_dia[\"Precio Unitario\"]=df_ventas_dia[\"Precio Unitario\"].str.replace(\",\",\".\")\n",
    "df_ventas_dia[\"Precio Unitario\"]=pd.to_numeric(df_ventas_dia[\"Precio Unitario\"])"
   ]
  },
  {
   "cell_type": "code",
   "execution_count": 21,
   "metadata": {},
   "outputs": [],
   "source": [
    "df_ventas_dia[\"Total Venta\"]=df_ventas_dia[\"Precio Unitario\"]*df_ventas_dia[\"Unidades\"]"
   ]
  },
  {
   "cell_type": "code",
   "execution_count": 22,
   "metadata": {},
   "outputs": [
    {
     "data": {
      "text/plain": [
       "País     Línea de Producto\n",
       "Finland  Classic Cars         35848.54\n",
       "Spain    Classic Cars         26722.04\n",
       "         Motorcycles          29804.34\n",
       "Name: Total Venta, dtype: float64"
      ]
     },
     "execution_count": 22,
     "metadata": {},
     "output_type": "execute_result"
    }
   ],
   "source": [
    "df_ventas_dia.groupby([\"País\",\"Línea de Producto\"])[\"Total Venta\"].sum()"
   ]
  },
  {
   "cell_type": "code",
   "execution_count": 34,
   "metadata": {},
   "outputs": [],
   "source": [
    "df_ventas_res = df_ventas_dia.groupby([\"País\",\"Línea de Producto\"])[\"Total Venta\"].agg(\"sum\").reset_index(name=\"suma\")"
   ]
  },
  {
   "cell_type": "code",
   "execution_count": 35,
   "metadata": {},
   "outputs": [
    {
     "data": {
      "text/html": [
       "<div>\n",
       "<style scoped>\n",
       "    .dataframe tbody tr th:only-of-type {\n",
       "        vertical-align: middle;\n",
       "    }\n",
       "\n",
       "    .dataframe tbody tr th {\n",
       "        vertical-align: top;\n",
       "    }\n",
       "\n",
       "    .dataframe thead th {\n",
       "        text-align: right;\n",
       "    }\n",
       "</style>\n",
       "<table border=\"1\" class=\"dataframe\">\n",
       "  <thead>\n",
       "    <tr style=\"text-align: right;\">\n",
       "      <th></th>\n",
       "      <th>País</th>\n",
       "      <th>Línea de Producto</th>\n",
       "      <th>suma</th>\n",
       "    </tr>\n",
       "  </thead>\n",
       "  <tbody>\n",
       "    <tr>\n",
       "      <td>0</td>\n",
       "      <td>Finland</td>\n",
       "      <td>Classic Cars</td>\n",
       "      <td>35848.54</td>\n",
       "    </tr>\n",
       "    <tr>\n",
       "      <td>1</td>\n",
       "      <td>Spain</td>\n",
       "      <td>Classic Cars</td>\n",
       "      <td>26722.04</td>\n",
       "    </tr>\n",
       "    <tr>\n",
       "      <td>2</td>\n",
       "      <td>Spain</td>\n",
       "      <td>Motorcycles</td>\n",
       "      <td>29804.34</td>\n",
       "    </tr>\n",
       "  </tbody>\n",
       "</table>\n",
       "</div>"
      ],
      "text/plain": [
       "      País Línea de Producto      suma\n",
       "0  Finland      Classic Cars  35848.54\n",
       "1    Spain      Classic Cars  26722.04\n",
       "2    Spain       Motorcycles  29804.34"
      ]
     },
     "execution_count": 35,
     "metadata": {},
     "output_type": "execute_result"
    }
   ],
   "source": [
    "df_ventas_res"
   ]
  },
  {
   "cell_type": "code",
   "execution_count": 36,
   "metadata": {},
   "outputs": [],
   "source": [
    "#Exportar a Excel\n",
    "df_ventas_res.to_excel(r'C:\\Users\\ivan_pinar\\Dropbox\\Creación de MOCs\\MOC Master Python Análisis de Datos\\Datasets\\12.1\\Ventas_res.xlsx',sheet_name = \"Ventas País - Producto\")"
   ]
  },
  {
   "cell_type": "code",
   "execution_count": 39,
   "metadata": {},
   "outputs": [
    {
     "name": "stderr",
     "output_type": "stream",
     "text": [
      "[NbConvertApp] Converting notebook 12.1_Generación_de_scripts.ipynb to script\n",
      "[NbConvertApp] Writing 1211 bytes to 12.1_Generación_de_scripts.py\n"
     ]
    }
   ],
   "source": [
    "!jupyter nbconvert --to script 12.1_Generación_de_scripts.ipynb"
   ]
  },
  {
   "cell_type": "code",
   "execution_count": null,
   "metadata": {},
   "outputs": [],
   "source": []
  },
  {
   "cell_type": "code",
   "execution_count": null,
   "metadata": {},
   "outputs": [],
   "source": []
  }
 ],
 "metadata": {
  "kernelspec": {
   "display_name": "Python 3",
   "language": "python",
   "name": "python3"
  },
  "language_info": {
   "codemirror_mode": {
    "name": "ipython",
    "version": 3
   },
   "file_extension": ".py",
   "mimetype": "text/x-python",
   "name": "python",
   "nbconvert_exporter": "python",
   "pygments_lexer": "ipython3",
   "version": "3.7.3"
  }
 },
 "nbformat": 4,
 "nbformat_minor": 2
}
